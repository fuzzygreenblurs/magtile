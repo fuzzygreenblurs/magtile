{
 "cells": [
  {
   "cell_type": "markdown",
   "metadata": {},
   "source": [
    "## Step 0: Import Statements & Constants"
   ]
  },
  {
   "cell_type": "code",
   "execution_count": 1,
   "metadata": {},
   "outputs": [],
   "source": [
    "import cv2\n",
    "import numpy as np\n",
    "import pdb\n",
    "import time\n",
    "import csv\n",
    "import pandas as pd\n",
    "import matplotlib.pyplot as plt\n",
    "from scipy.optimize import curve_fit\n",
    "from scipy.integrate import solve_ivp"
   ]
  },
  {
   "cell_type": "markdown",
   "metadata": {},
   "source": [
    "## Step 1: Derive Positions"
   ]
  },
  {
   "cell_type": "markdown",
   "metadata": {},
   "source": [
    "#### Measure Position from Raw Footage"
   ]
  },
  {
   "cell_type": "code",
   "execution_count": 2,
   "metadata": {},
   "outputs": [],
   "source": [
    "# V_CALIBRATION  = 0\n",
    "# H_CALIBRATION  = 0\n",
    "\n",
    "# # FLIR: workspace box bounded to real world coordinates of: upper left: (-0.3\", 0.3\") to bottom right: (4.4\", 3.2\")\n",
    "# PIX_RANGE_X    = 1024\n",
    "# PIX_RANGE_Y    = 1024\n",
    "# MIN_X_PIX      = 0\n",
    "# MAX_X_PIX      = MIN_X_PIX + PIX_RANGE_X\n",
    "# MIN_Y_PIX      = 0\n",
    "# MAX_Y_PIX      = MIN_Y_PIX + PIX_RANGE_Y\n",
    "# WORLD_ORIGIN_TRANSLATION = 0\n",
    "# WIDTH_IN_INCHES = 3.7\n",
    "# PIX_TO_IN      = WIDTH_IN_INCHES / PIX_RANGE_X\n",
    "\n",
    "# '''\n",
    "# camera field of view offsets:\n",
    "# 1024x1024, x-offset: 700, y-offset: 226\n",
    "# '''\n",
    "\n",
    "# # SIZE_IN_INCHES = 5.9\n",
    "# # PIX_TO_IN      = SIZE_IN_INCHES / PIX_RANGE\n",
    "\n",
    "# frame_count = 0\n",
    "# background_frame = None\n",
    "# # cap = cv2.VideoCapture(1)\n",
    "# cap = cv2.VideoCapture('90fps-um.avi')\n",
    "\n",
    "# # Open a CSV file for writing\n",
    "# with open('um-positions.csv', mode='w', newline='') as file:\n",
    "#     writer = csv.writer(file)\n",
    "#     writer.writerow([\"h_pos\", \"v_pos\"])  # Write header\n",
    "\n",
    "#     start_time = time.time()\n",
    "#     while True:\n",
    "#         ret, frame = cap.read()\n",
    "#         frame_count += 1\n",
    "#         if not ret:\n",
    "#             break\n",
    "        \n",
    "#         # Crop whole frame to target workspace area:\n",
    "#         # [Y, X] components respectively, given the current orientation of the camera\n",
    "#         workspace_frame = frame[MIN_Y_PIX : MAX_Y_PIX, MIN_X_PIX : MAX_X_PIX]\n",
    "\n",
    "#         gray = cv2.cvtColor(workspace_frame, cv2.COLOR_BGR2GRAY)\n",
    "#         gray = cv2.GaussianBlur(gray, (35, 35), 0)  # Filter for noise between frames\n",
    "\n",
    "#         if background_frame is None:\n",
    "#             background_frame = gray\n",
    "\n",
    "#         frame_delta = cv2.absdiff(background_frame, gray)\n",
    "\n",
    "#         # If any pixel intensity is < 25, set to 0. If > 25, set to 255\n",
    "#         # Average over 6 iterations\n",
    "#         _, thresh = cv2.threshold(frame_delta, 25, 255, cv2.THRESH_BINARY)\n",
    "#         thresh = cv2.dilate(thresh, None, iterations=6)\n",
    "\n",
    "#         # Note contours x,y positions are defined based on the cropped frame!\n",
    "#         contours, heirarchy = cv2.findContours(thresh, cv2.RETR_EXTERNAL, cv2.CHAIN_APPROX_SIMPLE)\n",
    "#         for cnt in contours:\n",
    "#             x, y, w, h = cv2.boundingRect(cnt)\n",
    "#             h_pos = ((x + w/2) - WORLD_ORIGIN_TRANSLATION) * PIX_TO_IN\n",
    "#             v_pos = (-1 * ((y + h/2) - WORLD_ORIGIN_TRANSLATION)) * PIX_TO_IN\n",
    "#             print(round(h_pos, 2), round(v_pos, 2))\n",
    "#             writer.writerow([round(h_pos, 2), round(v_pos, 2)])  # Write positions to CSV\n",
    "\n",
    "#         # cv2.imshow('gray', gray)\n",
    "#         cv2.imshow('color', workspace_frame)\n",
    "#         cv2.imshow('threshold', thresh)\n",
    "#         # print(frame.shape)  # 1080 * 1920 * 3 (rgb) -> (255, 255, 255)\n",
    "\n",
    "#         cv2.imshow('frame', frame)\n",
    "#         k = cv2.waitKey(5)\n",
    "#         if k == 27:\n",
    "#             break\n",
    "\n",
    "# end_time = time.time()\n",
    "# print(frame_count)\n",
    "# print(end_time - start_time)\n",
    "# cv2.destroyAllWindows()\n"
   ]
  },
  {
   "cell_type": "markdown",
   "metadata": {},
   "source": [
    "#### Split Positions into Action Segments: A to B and B to A"
   ]
  },
  {
   "cell_type": "code",
   "execution_count": 96,
   "metadata": {},
   "outputs": [
    {
     "name": "stdout",
     "output_type": "stream",
     "text": [
      "Total segments created: 10\n"
     ]
    }
   ],
   "source": [
    "# Load the data from the provided CSV file\n",
    "data = pd.read_csv('ur-positions.csv')\n",
    "\n",
    "# Define the positions A and B and the tolerance\n",
    "position_A = np.array([2.31, -0.79])\n",
    "position_B = np.array([1.52, -1.58])\n",
    "tolerance = 0.2\n",
    "repeating_threshold = 50\n",
    "\n",
    "# Function to check if a position is within tolerance of a target position using Euclidean distance\n",
    "def is_within_tolerance(pos, target, tol):\n",
    "    return np.sqrt((pos[0] - target[0])**2 + (pos[1] - target[1])**2) <= tol\n",
    "\n",
    "# Initialize variables\n",
    "segments = []\n",
    "current_segment = []\n",
    "recording = False\n",
    "repeating_count_A = 0\n",
    "repeating_count_B = 0\n",
    "last_pos_A = None\n",
    "last_pos_B = None\n",
    "\n",
    "for index, row in data.iterrows():\n",
    "    pos = [row['h_pos'], row['v_pos']]\n",
    "    \n",
    "    if is_within_tolerance(pos, position_A, tolerance):\n",
    "        if last_pos_A is not None and np.allclose(pos, last_pos_A, atol=tolerance):\n",
    "            repeating_count_A += 1\n",
    "        else:\n",
    "            repeating_count_A = 1\n",
    "        last_pos_A = pos\n",
    "    else:\n",
    "        repeating_count_A = 0\n",
    "        last_pos_A = None\n",
    "\n",
    "    if recording:\n",
    "        current_segment.append(row)\n",
    "        \n",
    "        if is_within_tolerance(pos, position_B, tolerance):\n",
    "            if last_pos_B is not None and np.allclose(pos, last_pos_B, atol=tolerance):\n",
    "                repeating_count_B += 1\n",
    "            else:\n",
    "                repeating_count_B = 1\n",
    "            last_pos_B = pos\n",
    "\n",
    "            if repeating_count_B >= repeating_threshold:\n",
    "                segments.append(pd.DataFrame(current_segment))\n",
    "                current_segment = []\n",
    "                recording = False\n",
    "                repeating_count_B = 0\n",
    "                last_pos_B = None\n",
    "        else:\n",
    "            repeating_count_B = 0\n",
    "            last_pos_B = None\n",
    "\n",
    "    if repeating_count_A >= repeating_threshold and not recording:\n",
    "        recording = True\n",
    "        current_segment = [row]\n",
    "\n",
    "# Save each segment to a CSV file\n",
    "for i, segment in enumerate(segments):\n",
    "    segment.to_csv(f'segment_{i+1}.csv', index=False)\n",
    "\n",
    "print(f'Total segments created: {len(segments)}')\n"
   ]
  },
  {
   "cell_type": "markdown",
   "metadata": {},
   "source": [
    "#### Plot Position of a Single Action"
   ]
  },
  {
   "cell_type": "code",
   "execution_count": 63,
   "metadata": {},
   "outputs": [
    {
     "data": {
      "image/png": "[encoded data removed]",
      "text/plain": [
       "<Figure size 1000x600 with 1 Axes>"
      ]
     },
     "metadata": {},
     "output_type": "display_data"
    }
   ],
   "source": [
    "file_path = 'ur/center_to_ur/segment_1.csv'\n",
    "df = pd.read_csv(file_path)\n",
    "\n",
    "# Plot the data\n",
    "plt.figure(figsize=(10, 6))\n",
    "\n",
    "plt.plot(df['h_pos'], df['v_pos'], 'o-', label='Position')\n",
    "\n",
    "plt.xlabel('X Position')\n",
    "plt.ylabel('Y Position')\n",
    "plt.title('Static Trial 5: Initial Position (2.5,-1.39)\", Final Position (2.47,-2.27)\"')\n",
    "\n",
    "# Set the x-axis range to show from 0 to 5\n",
    "plt.xlim([1, 3])\n",
    "\n",
    "# Set the y-axis range to show from -3.5 to -2\n",
    "plt.ylim([-3, 1])\n",
    "\n",
    "plt.legend()\n",
    "plt.grid(True)\n",
    "plt.show()"
   ]
  },
  {
   "cell_type": "markdown",
   "metadata": {},
   "source": [
    "## Step 2: Derive Velocity & Acceleration for Each Segment"
   ]
  },
  {
   "cell_type": "markdown",
   "metadata": {},
   "source": [
    "#### Organize Data: Load Trial CSVs Into Pandas DF"
   ]
  },
  {
   "cell_type": "code",
   "execution_count": 87,
   "metadata": {},
   "outputs": [
    {
     "name": "stdout",
     "output_type": "stream",
     "text": [
      "[np.float64(2.46), np.float64(-0.68)] [np.float64(1.58), np.float64(-1.58)]\n",
      "        x2    y2\n",
      "0     2.46 -0.68\n",
      "1     2.46 -0.68\n",
      "2     2.46 -0.68\n",
      "3     2.46 -0.68\n",
      "4     2.46 -0.68\n",
      "...    ...   ...\n",
      "1542  1.58 -1.58\n",
      "1543  1.58 -1.58\n",
      "1544  1.58 -1.58\n",
      "1545  1.58 -1.58\n",
      "1546  1.58 -1.58\n",
      "\n",
      "[1547 rows x 2 columns]\n"
     ]
    }
   ],
   "source": [
    "# import pandas as pd\n",
    "\n",
    "# data_files = [\n",
    "#     'um/um_to_center/segment_1.csv', \n",
    "#     'um/um_to_center/segment_2.csv', \n",
    "#     'um/center_to_um/segment_1.csv', \n",
    "#     'um/center_to_um/segment_2.csv', \n",
    "# ]\n",
    "\n",
    "# all_data = []\n",
    "\n",
    "# for file in data_files:\n",
    "#     df = pd.read_csv(file)\n",
    "#     new_column_names = ['x2', 'y2']\n",
    "#     df.columns = new_column_names\n",
    "#     all_data.append(df)\n",
    "\n",
    "# combined_data = pd.concat(all_data, ignore_index=True)\n",
    "\n",
    "# print(combined_data)\n",
    "\n",
    "df = pd.read_csv('ur/ur_to_center/segment_1.csv')\n",
    "x2, y2 = df.head(3)['h_pos'].mean(), df.head(3)['v_pos'].mean()\n",
    "x1, y1 = df.tail(3)['h_pos'].mean(), df.tail(3)['v_pos'].mean()\n",
    "positionA = [x2, y2]\n",
    "positionB = [x1, y1]\n",
    "\n",
    "new_column_names = ['x2', 'y2']\n",
    "df.columns = new_column_names\n",
    "df.ignore_index = True\n",
    "\n",
    "print(positionA, positionB)\n",
    "print(df)"
   ]
  },
  {
   "cell_type": "markdown",
   "metadata": {},
   "source": [
    "#### Compute Velocities and Accelerations"
   ]
  },
  {
   "cell_type": "code",
   "execution_count": 89,
   "metadata": {},
   "outputs": [
    {
     "name": "stdout",
     "output_type": "stream",
     "text": [
      "[np.float64(2.46), np.float64(-0.68)]\n",
      "Initial Values:\n",
      "     x2    y2  vx2  vy2  ax2  ay2\n",
      "0  2.46 -0.68  0.0  0.0  0.0  0.0\n",
      "1  2.46 -0.68  0.0  0.0  0.0  0.0\n",
      "2  2.46 -0.68  0.0  0.0  0.0  0.0\n",
      "3  2.46 -0.68  0.0  0.0  0.0  0.0\n",
      "4  2.46 -0.68  0.0  0.0  0.0  0.0\n",
      "Final Values:\n",
      "        x2    y2  vx2  vy2  ax2  ay2\n",
      "1542  1.58 -1.58  0.0  0.0  0.0  0.0\n",
      "1543  1.58 -1.58  0.0  0.0  0.0  0.0\n",
      "1544  1.58 -1.58  0.0  0.0  0.0  0.0\n",
      "1545  1.58 -1.58  0.0  0.0  0.0  0.0\n",
      "1546  1.58 -1.58  0.0  0.0  0.0  0.0\n"
     ]
    }
   ],
   "source": [
    "frame_rate = 83\n",
    "time_step = 1 / frame_rate  # Replace with actual time steps if available\n",
    "\n",
    "print(positionA)\n",
    "\n",
    "vx = np.zeros(len(df))\n",
    "vy = np.zeros(len(df))\n",
    "ax = np.zeros(len(df))\n",
    "ay = np.zeros(len(df))\n",
    "\n",
    "threshold = 0.03 / (time_step)\n",
    "\n",
    "for i in range(1, len(df) - 1):\n",
    "    vx[i] = (df['x2'].iloc[i + 1] - df['x2'].iloc[i - 1]) / (2 * time_step)\n",
    "    vy[i] = (df['y2'].iloc[i + 1] - df['y2'].iloc[i - 1]) / (2 * time_step)\n",
    "\n",
    "# Use forward difference for the first point\n",
    "vx[0] = (df['x2'].iloc[1] - df['x2'].iloc[0]) / time_step\n",
    "vy[0] = (df['y2'].iloc[1] - df['y2'].iloc[0]) / time_step\n",
    "\n",
    "# Use backward difference for the last point\n",
    "vx[-1] = (df['x2'].iloc[-1] - df['x2'].iloc[-2]) / time_step\n",
    "vy[-1] = (df['y2'].iloc[-1] - df['y2'].iloc[-2]) / time_step\n",
    "\n",
    "vx[np.abs(vx) < threshold] = 0\n",
    "vy[np.abs(vy) < threshold] = 0\n",
    "\n",
    "# Calculate accelerations using central difference for interior points\n",
    "for i in range(1, len(vx) - 1):\n",
    "    ax[i] = (vx[i + 1] - vx[i - 1]) / (2 * time_step)\n",
    "    ay[i] = (vy[i + 1] - vy[i - 1]) / (2 * time_step)\n",
    "\n",
    "# Use forward difference for the first point\n",
    "ax[0] = (vx[1] - vx[0]) / time_step\n",
    "ay[0] = (vy[1] - vy[0]) / time_step\n",
    "\n",
    "# Use backward difference for the last point\n",
    "ax[-1] = (vx[-1] - vx[-2]) / time_step\n",
    "ay[-1] = (vy[-1] - vy[-2]) / time_step\n",
    "\n",
    "# Add velocities and accelerations to the dataframe\n",
    "df['vx2'] = np.round(vx, 3)\n",
    "df['vy2'] = np.round(vy, 3)\n",
    "df['ax2'] = np.round(ax, 3)\n",
    "df['ay2'] = np.round(ay, 3)\n",
    "\n",
    "\n",
    "# Print initial and final values to check\n",
    "print(\"Initial Values:\")\n",
    "print(df.head())\n",
    "\n",
    "print(\"Final Values:\")\n",
    "print(df.tail())\n",
    "\n"
   ]
  },
  {
   "cell_type": "markdown",
   "metadata": {},
   "source": [
    "#### Include Velocities and Accelerations Into DF and Persist"
   ]
  },
  {
   "cell_type": "code",
   "execution_count": 91,
   "metadata": {},
   "outputs": [],
   "source": [
    "df['vx2'] = vx\n",
    "df['vy2'] = vy\n",
    "df['ax2'] = ax\n",
    "df['ay2'] = ay\n",
    "\n",
    "output_file_path = '/Users/akhilsankar/workspace/swarms/tracking/combined_static_trial_dfs/ur/segment_1.csv'\n",
    "df.to_csv(output_file_path, index=False)"
   ]
  },
  {
   "cell_type": "markdown",
   "metadata": {},
   "source": [
    "## Step 3: Regression"
   ]
  },
  {
   "cell_type": "markdown",
   "metadata": {},
   "source": [
    "#### Define Physical Platform Dimensions"
   ]
  },
  {
   "cell_type": "code",
   "execution_count": 92,
   "metadata": {},
   "outputs": [],
   "source": [
    "# raw measurements in mm\n",
    "MM_TO_IN            = 0.0394\n",
    "CASE_HEIGHT         = 12.50 * MM_TO_IN\n",
    "COIL_HEIGHT         = 12.03 * MM_TO_IN\n",
    "SHEET_THICKNESS     = 3.485 * MM_TO_IN\n",
    "DISC_HEIGHT         = 1.75  * MM_TO_IN\n",
    "R1                  = 9.455 * MM_TO_IN          # coil radius\n",
    "R2                  = 2.965 * MM_TO_IN          # disc radius\n",
    "\n",
    "# note: z2: position of disc along the z-axis wrt to the coil (by centroid)\n",
    "z1 = 0\n",
    "z2 = (COIL_HEIGHT / 2) + (CASE_HEIGHT - COIL_HEIGHT) + (2 * SHEET_THICKNESS) + (DISC_HEIGHT / 2)\n",
    "h = z2 - z1\n"
   ]
  },
  {
   "cell_type": "markdown",
   "metadata": {},
   "source": [
    "#### Define the State-Space Model"
   ]
  },
  {
   "cell_type": "code",
   "execution_count": 93,
   "metadata": {},
   "outputs": [],
   "source": [
    "# def state_space_model(params, x2, y2, x1, y1, vx2, vy2):\n",
    "#     '''\n",
    "#     returns: predicted real-time acceleration in x and y directions\n",
    "\n",
    "#     params: global variable representing target coefficients. these are constantly updated \n",
    "#     x1, y1: planar coordinates of the target destination (coil xy coordinates)\n",
    "#         - this can be determined from the end position of each csv\n",
    "#     x2, y2: real-time coordinates of the disc position\n",
    "#     '''\n",
    "\n",
    "#     alpha, beta1, beta2 = params\n",
    "#     h = z2 - z1\n",
    "#     r = np.sqrt((x2 - x1)**2 + (y2 - y1)**2 + h**2)\n",
    "#     ax2_pred = -beta1 * vx2 + (alpha / r**5) * (1 - 5 * (h**2) / r**2) * (x2 - x1)\n",
    "#     ay2_pred = -beta2 * vy2 + (alpha / r**5) * (1 - 5 * (h**2) / r**2) * (y2 - y1)\n",
    "#     return np.concatenate([ax2_pred, ay2_pred])\n",
    "\n",
    "def state_space_model(params, x2, y2, x1, y1, vx2, vy2):\n",
    "    alpha, beta1, beta2 = params\n",
    "    z2, z1 = 0.01, 0  # Assuming z2 and z1 are given and constant\n",
    "    h = z2 - z1\n",
    "    r = np.sqrt((x2 - x1)**2 + (y2 - y1)**2 + h**2)\n",
    "    ax2_pred = -beta1 * vx2 + (alpha / r**5) * (1 - 5 * (h**2) / r**2) * (x2 - x1)\n",
    "    ay2_pred = -beta2 * vy2 + (alpha / r**5) * (1 - 5 * (h**2) / r**2) * (y2 - y1)\n",
    "    return np.concatenate([ax2_pred, ay2_pred])"
   ]
  },
  {
   "cell_type": "markdown",
   "metadata": {},
   "source": [
    "#### Define the Objective Function (SSD)"
   ]
  },
  {
   "cell_type": "markdown",
   "metadata": {
    "vscode": {
     "languageId": "html"
    }
   },
   "source": [
    "#### Optimize Parameters Using Curve Fit (Levenberg-Marquardt) "
   ]
  },
  {
   "cell_type": "code",
   "execution_count": 94,
   "metadata": {},
   "outputs": [
    {
     "name": "stdout",
     "output_type": "stream",
     "text": [
      "Optimized parameters: [ 3.99166746e-06 -9.12801496e-02  8.93935507e-04]\n"
     ]
    }
   ],
   "source": [
    "# # Initial parameter guesses\n",
    "# initial_guesses = [0.1, 0.1, 0.1]\n",
    "\n",
    "# 0.1 0.1 0.1\n",
    "#  [ 3.99165386e-06, -9.11637689e-02,  3.37911556e-04]\n",
    "#  2.36227858e-04  2.57866196e-02 -5.71059168e-01]\n",
    "\n",
    "initial_guesses = [ 3.99165386e-06, -9.11637689e-02,  3.37911556e-04]\n",
    "x1, y1 = position_B[0], position_B[1]\n",
    "\n",
    "\n",
    "def model_func_lambda(inputs, alpha, beta1, beta2):\n",
    "    x2, y2, vx2, vy2 = inputs\n",
    "\n",
    "    return state_space_model([alpha, beta1, beta2], x2, y2, x1, y1, vx2, vy2)\n",
    "\n",
    "try:\n",
    "    optimized_params, covariance = curve_fit(\n",
    "        model_func_lambda, (df['x2'], df['y2'], df['vx2'], df['vy2']),\n",
    "        np.concatenate([df['ax2'], df['ay2']]),\n",
    "        p0=initial_guesses\n",
    "    )\n",
    "    print(\"Optimized parameters:\", optimized_params)\n",
    "except Exception as e:\n",
    "    print(\"Error during curve fitting:\", e)"
   ]
  },
  {
   "cell_type": "markdown",
   "metadata": {},
   "source": [
    "## Performance: Simulation vs Experiments"
   ]
  },
  {
   "cell_type": "markdown",
   "metadata": {},
   "source": [
    "#### Calculate Acceleration -> Velocity -> Displacement -> Final Position"
   ]
  },
  {
   "cell_type": "code",
   "execution_count": 95,
   "metadata": {},
   "outputs": [
    {
     "name": "stdout",
     "output_type": "stream",
     "text": [
      "target position:  1.52 -1.58\n",
      "           ax2       ay2\n",
      "0     0.000002  0.000002\n",
      "1     0.000002  0.000002\n",
      "2     0.000002  0.000002\n",
      "3     0.000002  0.000002\n",
      "4     0.000002  0.000002\n",
      "...        ...       ...\n",
      "1995  0.000016  0.000002\n",
      "1996  0.000016  0.000002\n",
      "1997  0.000016  0.000002\n",
      "1998  0.000016  0.000002\n",
      "1999  0.000016  0.000002\n",
      "\n",
      "[2000 rows x 2 columns]\n",
      "            x2        y2\n",
      "1990  2.311245 -0.789483\n",
      "1991  2.311247 -0.789483\n",
      "1992  2.311249 -0.789482\n",
      "1993  2.311251 -0.789482\n",
      "1994  2.311253 -0.789481\n",
      "1995  2.311254 -0.789481\n",
      "1996  2.311256 -0.789480\n",
      "1997  2.311258 -0.789480\n",
      "1998  2.311260 -0.789479\n",
      "1999  2.311262 -0.789479\n"
     ]
    }
   ],
   "source": [
    "def sim_state_space_model(params, x2, y2, x1, y1, vx2, vy2):\n",
    "    alpha, beta1, beta2 = params\n",
    "    h = 0.01  # Replace with actual height difference\n",
    "    r = np.sqrt((x2 - x1)**2 + (y2 - y1)**2 + h**2)\n",
    "    ax2_pred = -beta1 * vx2 + (alpha / r**5) * (1 - 5 * (h**2) / r**2) * (x2 - x1)\n",
    "    ay2_pred = -beta2 * vy2 + (alpha / r**5) * (1 - 5 * (h**2) / r**2) * (y2 - y1)\n",
    "    return ax2_pred, ay2_pred  # Return as scalars, not as concatenated array\n",
    "\n",
    "\n",
    "\n",
    "# Given parameters\n",
    "alpha_opt, beta1_opt, beta2_opt = optimized_params # Replace with optimized parameters\n",
    "\n",
    "# Initial conditions\n",
    "print('target position: ', position_B[0], position_B[1])\n",
    "x2_pred, y2_pred = position_A[0], position_A[1]  # Initial positions\n",
    "vx2_pred, vy2_pred = 0.0, 0.0  # Initial velocities\n",
    "\n",
    "# Simulation parameters\n",
    "dt = 1 / frame_rate # Time step\n",
    "num_steps = 2000  # Number of steps in the simulation\n",
    "\n",
    "# Arrays to store the results\n",
    "x2_pred_array = np.zeros(num_steps)\n",
    "y2_pred_array = np.zeros(num_steps)\n",
    "vx2_pred_array = np.zeros(num_steps)\n",
    "vy2_pred_array = np.zeros(num_steps)\n",
    "ax2_pred_array = np.zeros(num_steps)\n",
    "ay2_pred_array = np.zeros(num_steps)\n",
    "\n",
    "# Simulation loop using Euler method\n",
    "for i in range(num_steps):\n",
    "    ax2_pred, ay2_pred = sim_state_space_model(\n",
    "        [alpha_opt, beta1_opt, beta2_opt], \n",
    "        x2_pred, y2_pred, x1, y1, vx2_pred, vy2_pred\n",
    "    )\n",
    "    \n",
    "    # Store the results\n",
    "    x2_pred_array[i] = x2_pred\n",
    "    y2_pred_array[i] = y2_pred\n",
    "    vx2_pred_array[i] = vx2_pred\n",
    "    vy2_pred_array[i] = vy2_pred\n",
    "    ax2_pred_array[i] = ax2_pred\n",
    "    ay2_pred_array[i] = ay2_pred\n",
    "    \n",
    "    # Update velocities using Euler method\n",
    "    vx2_pred += ax2_pred * dt\n",
    "    vy2_pred += ay2_pred * dt\n",
    "    \n",
    "    # Update positions using Euler method\n",
    "    x2_pred += vx2_pred * dt\n",
    "    y2_pred += vy2_pred * dt\n",
    "\n",
    "# Combine results into a DataFrame for analysis\n",
    "\n",
    "results_df = pd.DataFrame({\n",
    "    'time': np.arange(num_steps) * dt,\n",
    "    'x2': x2_pred_array,\n",
    "    'y2': y2_pred_array,\n",
    "    'vx2': vx2_pred_array,\n",
    "    'vy2': vy2_pred_array,\n",
    "    'ax2': ax2_pred_array,\n",
    "    'ay2': ay2_pred_array\n",
    "})\n",
    "\n",
    "print(results_df[['ax2', 'ay2']])\n",
    "final_sim_position = ['x2', 'y2']\n",
    "print(results_df[final_sim_position].tail(10))\n"
   ]
  }
 ],
 "metadata": {
  "kernelspec": {
   "display_name": "venv",
   "language": "python",
   "name": "python3"
  },
  "language_info": {
   "codemirror_mode": {
    "name": "ipython",
    "version": 3
   },
   "file_extension": ".py",
   "mimetype": "text/x-python",
   "name": "python",
   "nbconvert_exporter": "python",
   "pygments_lexer": "ipython3",
   "version": "3.12.4"
  }
 },
 "nbformat": 4,
 "nbformat_minor": 2
}
